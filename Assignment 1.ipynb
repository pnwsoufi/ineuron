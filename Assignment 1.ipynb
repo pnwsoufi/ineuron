{
 "cells": [
  {
   "cell_type": "code",
   "execution_count": null,
   "id": "afd106af",
   "metadata": {},
   "outputs": [],
   "source": [
    "1 .\n",
    "Values are : \"Hello\", \"87.8\" , \"6\"\n",
    "expressions are : - \\ + *\n",
    "\n",
    "2. \n",
    "Variable can be string for example:\n",
    "S= \"Soufi\"\n",
    "s is variable \n",
    "and soufi is string\n",
    "\n",
    "3.\n",
    "Three diffrent data types are \n",
    "     intergers, floating-point numbers, and strings\n",
    "\n",
    "4. What is an expression made up of? What do all expressions do?\n",
    "expression is made up of variable, operators and method invocations and that representing a value \n",
    "\n",
    "\n",
    "5. This assignment statements, like spam = 10. What is the difference between an expression and a statement?\n",
    "an expression is piece of code that produce a value\n",
    "a statement is entire line of code that perform some sort of action sometimes, and it can be either print statement or assigment statment\n",
    "\n",
    "    "
   ]
  },
  {
   "cell_type": "code",
   "execution_count": 1,
   "id": "4d3d271a",
   "metadata": {},
   "outputs": [
    {
     "name": "stdout",
     "output_type": "stream",
     "text": [
      "Object `contain` not found.\n"
     ]
    },
    {
     "data": {
      "text/plain": [
       "23"
      ]
     },
     "execution_count": 1,
     "metadata": {},
     "output_type": "execute_result"
    }
   ],
   "source": [
    "6. After running the following code, what does the variable bacon contain?\n",
    "bacon = 22\n",
    "bacon + 1"
   ]
  },
  {
   "cell_type": "code",
   "execution_count": 2,
   "id": "1c9312bd",
   "metadata": {},
   "outputs": [
    {
     "name": "stdout",
     "output_type": "stream",
     "text": [
      "Object `be` not found.\n"
     ]
    },
    {
     "data": {
      "text/plain": [
       "'spamspamspam'"
      ]
     },
     "execution_count": 2,
     "metadata": {},
     "output_type": "execute_result"
    }
   ],
   "source": [
    "7. What should the values of the following two terms be?\n",
    "'spam' + 'spamspam'\n",
    "'spam' * 3\n"
   ]
  },
  {
   "cell_type": "code",
   "execution_count": 9,
   "id": "83973f85",
   "metadata": {},
   "outputs": [
    {
     "ename": "SyntaxError",
     "evalue": "invalid syntax (4036711348.py, line 1)",
     "output_type": "error",
     "traceback": [
      "\u001b[1;36m  Input \u001b[1;32mIn [9]\u001b[1;36m\u001b[0m\n\u001b[1;33m    8. why is eggs a valid variable name while 100 is invalid?\u001b[0m\n\u001b[1;37m       ^\u001b[0m\n\u001b[1;31mSyntaxError\u001b[0m\u001b[1;31m:\u001b[0m invalid syntax\n"
     ]
    }
   ],
   "source": [
    "8. why is eggs a valid variable name while 100 is invalid? \n",
    "because variable name can not start with number\""
   ]
  },
  {
   "cell_type": "code",
   "execution_count": null,
   "id": "352a8c8f",
   "metadata": {},
   "outputs": [],
   "source": [
    "9. What three functions can be used to get the integer, floating-point number, or string version of a value?\n",
    "int()\n",
    "float()\n",
    "str()"
   ]
  },
  {
   "cell_type": "code",
   "execution_count": null,
   "id": "e7affdbd",
   "metadata": {},
   "outputs": [],
   "source": [
    "10. Why does this expression cause an error? How can you fix it?\n",
    "'I have eaten ' + 99 + ' burritos.'\n",
    "because one is inter and other and str is not same data type so i added ('')"
   ]
  },
  {
   "cell_type": "code",
   "execution_count": 14,
   "id": "88cfdf0c",
   "metadata": {},
   "outputs": [],
   "source": [
    "a= ('I have eaten ' + '99' + ' burritos')\n"
   ]
  },
  {
   "cell_type": "code",
   "execution_count": 15,
   "id": "7f8c1594",
   "metadata": {},
   "outputs": [
    {
     "data": {
      "text/plain": [
       "'I have eaten 99 burritos'"
      ]
     },
     "execution_count": 15,
     "metadata": {},
     "output_type": "execute_result"
    }
   ],
   "source": [
    "a"
   ]
  },
  {
   "cell_type": "code",
   "execution_count": null,
   "id": "24cc9c03",
   "metadata": {},
   "outputs": [],
   "source": []
  }
 ],
 "metadata": {
  "kernelspec": {
   "display_name": "Python 3 (ipykernel)",
   "language": "python",
   "name": "python3"
  },
  "language_info": {
   "codemirror_mode": {
    "name": "ipython",
    "version": 3
   },
   "file_extension": ".py",
   "mimetype": "text/x-python",
   "name": "python",
   "nbconvert_exporter": "python",
   "pygments_lexer": "ipython3",
   "version": "3.9.12"
  }
 },
 "nbformat": 4,
 "nbformat_minor": 5
}
